{
 "cells": [
  {
   "cell_type": "code",
   "execution_count": 1,
   "id": "d91857ea",
   "metadata": {},
   "outputs": [
    {
     "name": "stdout",
     "output_type": "stream",
     "text": [
      "pygame 2.4.0 (SDL 2.26.4, Python 3.9.13)\n",
      "Hello from the pygame community. https://www.pygame.org/contribute.html\n"
     ]
    }
   ],
   "source": [
    "import cv2\n",
    "import numpy as np\n",
    "import pygame"
   ]
  },
  {
   "cell_type": "markdown",
   "id": "3e414248",
   "metadata": {},
   "source": [
    "# Define the function to draw shapes"
   ]
  },
  {
   "cell_type": "code",
   "execution_count": 2,
   "id": "9b736ed8",
   "metadata": {},
   "outputs": [],
   "source": [
    "def draw_shape(shape_name):\n",
    "    \n",
    "    canvas = np.zeros((400, 400, 3), dtype=np.uint8)\n",
    "\n",
    "    if shape_name.lower() == 'circle':\n",
    "        color = (0, 0, 255)  \n",
    "        radius = 50\n",
    "        center = (200, 200)\n",
    "        cv2.circle(canvas, center, radius, color, -1)\n",
    "    elif shape_name.lower() == 'rectangle':\n",
    "        color = (0, 255, 0) \n",
    "        top_left = (150, 100)\n",
    "        bottom_right = (250, 300)\n",
    "        cv2.rectangle(canvas, top_left, bottom_right, color, -1)\n",
    "    elif shape_name.lower() == 'triangle':\n",
    "        color = (255, 0, 0)  \n",
    "        vertices = np.array([(200, 100), (100, 300), (300, 300)])\n",
    "        cv2.drawContours(canvas, [vertices], 0, color, -1)\n",
    "        \n",
    "    \n",
    "    pygame.init()\n",
    "    window = pygame.display.set_mode((400, 400))\n",
    "    pygame.surfarray.blit_array(window, canvas)\n",
    "    pygame.display.flip()\n",
    "\n",
    "    \n",
    "    while True:\n",
    "        for event in pygame.event.get():\n",
    "            if event.type == pygame.KEYDOWN:\n",
    "                pygame.quit()\n",
    "                return"
   ]
  },
  {
   "cell_type": "markdown",
   "id": "8b06b6e0",
   "metadata": {},
   "source": [
    "# Define the function to draw shapes"
   ]
  },
  {
   "cell_type": "code",
   "execution_count": null,
   "id": "eb7249df",
   "metadata": {},
   "outputs": [
    {
     "name": "stdout",
     "output_type": "stream",
     "text": [
      "Enter a shape name (circle, rectangle, triangle): circle\n"
     ]
    }
   ],
   "source": [
    "shape_name = input(\"Enter a shape name (circle, rectangle, triangle): \")\n",
    "draw_shape(shape_name)"
   ]
  },
  {
   "cell_type": "code",
   "execution_count": null,
   "id": "9f4a3033",
   "metadata": {},
   "outputs": [],
   "source": []
  }
 ],
 "metadata": {
  "kernelspec": {
   "display_name": "Python 3 (ipykernel)",
   "language": "python",
   "name": "python3"
  },
  "language_info": {
   "codemirror_mode": {
    "name": "ipython",
    "version": 3
   },
   "file_extension": ".py",
   "mimetype": "text/x-python",
   "name": "python",
   "nbconvert_exporter": "python",
   "pygments_lexer": "ipython3",
   "version": "3.9.13"
  }
 },
 "nbformat": 4,
 "nbformat_minor": 5
}
