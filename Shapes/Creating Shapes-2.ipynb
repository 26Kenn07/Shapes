{
 "cells": [
  {
   "cell_type": "code",
   "execution_count": 1,
   "id": "89b4bf68",
   "metadata": {},
   "outputs": [
    {
     "name": "stdout",
     "output_type": "stream",
     "text": [
      "pygame 2.4.0 (SDL 2.26.4, Python 3.9.13)\n",
      "Hello from the pygame community. https://www.pygame.org/contribute.html\n"
     ]
    }
   ],
   "source": [
    "import cv2\n",
    "import numpy as np\n",
    "import pygame"
   ]
  },
  {
   "cell_type": "markdown",
   "id": "dd2bcbf4",
   "metadata": {},
   "source": [
    "# Define the function to draw shapes"
   ]
  },
  {
   "cell_type": "code",
   "execution_count": 2,
   "id": "26d0d673",
   "metadata": {},
   "outputs": [],
   "source": [
    "def draw_shape(color_shape):\n",
    "    canvas = np.zeros((400, 400, 3), dtype=np.uint8)\n",
    "\n",
    "    \n",
    "    color_shape = color_shape.lower().split()\n",
    "    color = None\n",
    "    shape = None\n",
    "\n",
    "    \n",
    "    color_keywords = {'red', 'green', 'blue'}\n",
    "    for keyword in color_shape:\n",
    "        if keyword in color_keywords:\n",
    "            color = keyword\n",
    "\n",
    "    \n",
    "    shape_keywords = {'circle', 'rectangle', 'triangle'}\n",
    "    for keyword in color_shape:\n",
    "        if keyword in shape_keywords:\n",
    "            shape = keyword\n",
    "\n",
    "    \n",
    "    if color is None:\n",
    "        color = 'red'\n",
    "    if shape is None:\n",
    "        shape = 'circle'\n",
    "\n",
    "    \n",
    "    if color == 'red':\n",
    "        color_rgb = (255, 0, 0)\n",
    "    elif color == 'green':\n",
    "        color_rgb = (0, 255, 0)\n",
    "    elif color == 'blue':\n",
    "        color_rgb = (0, 0, 255)\n",
    "        \n",
    "\n",
    "    \n",
    "    if shape == 'circle':\n",
    "        radius = 50\n",
    "        center = (200, 200)\n",
    "        cv2.circle(canvas, center, radius, color_rgb, -1)\n",
    "    elif shape == 'rectangle':\n",
    "        top_left = (150, 100)\n",
    "        bottom_right = (250, 300)\n",
    "        cv2.rectangle(canvas, top_left, bottom_right, color_rgb, -1)\n",
    "    elif shape == 'triangle':\n",
    "        vertices = np.array([(200, 100), (100, 300), (300, 300)])\n",
    "        cv2.drawContours(canvas, [vertices], 0, color_rgb, -1)\n",
    "\n",
    "    \n",
    "    pygame.init()\n",
    "    window = pygame.display.set_mode((400, 400))\n",
    "    pygame.surfarray.blit_array(window, canvas)\n",
    "    pygame.display.flip()\n",
    "\n",
    "    while True:\n",
    "        for event in pygame.event.get():\n",
    "            if event.type == pygame.KEYDOWN:\n",
    "                pygame.quit()\n",
    "                return"
   ]
  },
  {
   "cell_type": "code",
   "execution_count": null,
   "id": "4dbe6aa4",
   "metadata": {},
   "outputs": [
    {
     "name": "stdout",
     "output_type": "stream",
     "text": [
      "Enter the shape and color: Please draw a green circle\n"
     ]
    }
   ],
   "source": [
    "input_str = input(\"Enter the shape and color: \")\n",
    "\n",
    "\n",
    "draw_shape(input_str)\n"
   ]
  },
  {
   "cell_type": "code",
   "execution_count": null,
   "id": "9e0f48e5",
   "metadata": {},
   "outputs": [],
   "source": []
  }
 ],
 "metadata": {
  "kernelspec": {
   "display_name": "Python 3 (ipykernel)",
   "language": "python",
   "name": "python3"
  },
  "language_info": {
   "codemirror_mode": {
    "name": "ipython",
    "version": 3
   },
   "file_extension": ".py",
   "mimetype": "text/x-python",
   "name": "python",
   "nbconvert_exporter": "python",
   "pygments_lexer": "ipython3",
   "version": "3.9.13"
  }
 },
 "nbformat": 4,
 "nbformat_minor": 5
}
